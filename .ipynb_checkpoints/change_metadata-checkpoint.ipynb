{
 "cells": [
  {
   "cell_type": "code",
   "execution_count": 1,
   "id": "707f05fd",
   "metadata": {},
   "outputs": [],
   "source": [
    "from exif import Image"
   ]
  },
  {
   "cell_type": "code",
   "execution_count": 2,
   "id": "68d65e74",
   "metadata": {},
   "outputs": [],
   "source": [
    "img_path = 'new_putin_image_w_tag.jpeg'"
   ]
  },
  {
   "cell_type": "code",
   "execution_count": 3,
   "id": "4c8295be",
   "metadata": {},
   "outputs": [
    {
     "ename": "FileNotFoundError",
     "evalue": "[Errno 2] No such file or directory: 'new_putin_image_w_tag.jpeg'",
     "output_type": "error",
     "traceback": [
      "\u001b[0;31m---------------------------------------------------------------------------\u001b[0m",
      "\u001b[0;31mFileNotFoundError\u001b[0m                         Traceback (most recent call last)",
      "\u001b[0;32m/var/folders/_k/m4ymq7v109qf1y0dy9ywhnmc0000gn/T/ipykernel_10486/3602654625.py\u001b[0m in \u001b[0;36m<module>\u001b[0;34m\u001b[0m\n\u001b[0;32m----> 1\u001b[0;31m \u001b[0;32mwith\u001b[0m \u001b[0mopen\u001b[0m\u001b[0;34m(\u001b[0m\u001b[0mimg_path\u001b[0m\u001b[0;34m,\u001b[0m \u001b[0;34m'rb'\u001b[0m\u001b[0;34m)\u001b[0m \u001b[0;32mas\u001b[0m \u001b[0mimg_file\u001b[0m\u001b[0;34m:\u001b[0m\u001b[0;34m\u001b[0m\u001b[0;34m\u001b[0m\u001b[0m\n\u001b[0m\u001b[1;32m      2\u001b[0m     \u001b[0mimg\u001b[0m \u001b[0;34m=\u001b[0m \u001b[0mImage\u001b[0m\u001b[0;34m(\u001b[0m\u001b[0mimg_file\u001b[0m\u001b[0;34m)\u001b[0m\u001b[0;34m\u001b[0m\u001b[0;34m\u001b[0m\u001b[0m\n\u001b[1;32m      3\u001b[0m \u001b[0;34m\u001b[0m\u001b[0m\n\u001b[1;32m      4\u001b[0m \u001b[0mprint\u001b[0m\u001b[0;34m(\u001b[0m\u001b[0mimg\u001b[0m\u001b[0;34m.\u001b[0m\u001b[0mlist_all\u001b[0m\u001b[0;34m(\u001b[0m\u001b[0;34m)\u001b[0m\u001b[0;34m)\u001b[0m\u001b[0;34m\u001b[0m\u001b[0;34m\u001b[0m\u001b[0m\n",
      "\u001b[0;31mFileNotFoundError\u001b[0m: [Errno 2] No such file or directory: 'new_putin_image_w_tag.jpeg'"
     ]
    }
   ],
   "source": [
    "with open(img_path, 'rb') as img_file:\n",
    "    img = Image(img_file)\n",
    "    \n",
    "print(img.list_all())"
   ]
  },
  {
   "cell_type": "code",
   "execution_count": 19,
   "id": "1abbd0e8",
   "metadata": {},
   "outputs": [
    {
     "name": "stdout",
     "output_type": "stream",
     "text": [
      "\n",
      "0th IFD:\n",
      "\n",
      "Exif IFD:\n",
      "\n",
      "GPS IFD:\n",
      "\n",
      "Interop IFD:\n",
      "\n",
      "1st IFD:\n"
     ]
    }
   ],
   "source": [
    "import piexif\n",
    "\n",
    "\n",
    "exif_dict = piexif.load(\"putin.jpeg\")\n",
    "thumbnail = exif_dict.pop(\"thumbnail\")\n",
    "if thumbnail is not None:\n",
    "    with open(\"thumbnail.jpg\", \"wb+\") as f:\n",
    "        f.write(thumbnail)\n",
    "for ifd_name in exif_dict:\n",
    "    print(\"\\n{0} IFD:\".format(ifd_name))\n",
    "    for key in exif_dict[ifd_name]:\n",
    "        try:\n",
    "            print(key, exif_dict[ifd_name][key][:10])\n",
    "        except:\n",
    "            print(key, exif_dict[ifd_name][key])"
   ]
  },
  {
   "cell_type": "code",
   "execution_count": 20,
   "id": "75d5cf5b",
   "metadata": {},
   "outputs": [
    {
     "name": "stderr",
     "output_type": "stream",
     "text": [
      "/Users/parthitpatel/opt/anaconda3/lib/python3.9/site-packages/rasterio/__init__.py:220: NotGeoreferencedWarning: Dataset has no geotransform, gcps, or rpcs. The identity matrix be returned.\n",
      "  s = DatasetReader(path, driver=driver, sharing=sharing, **kwargs)\n",
      "/Users/parthitpatel/opt/anaconda3/lib/python3.9/site-packages/rasterio/__init__.py:230: NotGeoreferencedWarning: The given matrix is equal to Affine.identity or its flipped counterpart. GDAL may ignore this matrix and save no geotransform without raising an error. This behavior is somewhat driver-specific.\n",
      "  s = writer(path, mode, driver=driver,\n"
     ]
    }
   ],
   "source": [
    "import rasterio\n",
    "\n",
    "old_file=rasterio.open('putin.jpeg')\n",
    "profile=old_file.profile\n",
    "data=old_file.read()\n",
    "\n",
    "\n",
    "with rasterio.open('new_putin_image_w_tag.jpeg','w',**profile) as dst:\n",
    "        dst.update_tags(a='Slava Ukraini', b='Stop the War!')\n",
    "        dst.write(data)\n",
    "#        dst.close() "
   ]
  },
  {
   "cell_type": "code",
   "execution_count": 21,
   "id": "fae4b8dd",
   "metadata": {},
   "outputs": [
    {
     "name": "stdout",
     "output_type": "stream",
     "text": [
      "{'a': 'Slava Ukraini', 'b': 'Stop the War!'}\n"
     ]
    }
   ],
   "source": [
    "im=rasterio.open('new_putin_image_w_tag.jpeg')\n",
    "print(im.tags())"
   ]
  },
  {
   "cell_type": "code",
   "execution_count": 57,
   "id": "fcd8cb91",
   "metadata": {},
   "outputs": [],
   "source": [
    "import io\n",
    "from PIL import Image\n",
    "import piexif\n",
    "\n",
    "o = io.BytesIO()\n",
    "thumb_im = Image.open(\"putin.jpeg\")\n",
    "thumb_im.thumbnail((50, 50), Image.ANTIALIAS)\n",
    "thumb_im.save(o, \"jpeg\")\n",
    "thumbnail = o.getvalue()\n",
    "\n",
    "zeroth_ifd = {piexif.ImageIFD.Make: u\"Canon\",\n",
    "              piexif.ImageIFD.XResolution: (96, 1),\n",
    "              piexif.ImageIFD.YResolution: (96, 1),\n",
    "              piexif.ImageIFD.Software: u\"piexif\"\n",
    "              }\n",
    "exif_ifd = {piexif.ExifIFD.DateTimeOriginal: u\"2099:09:29 10:10:10\",\n",
    "            piexif.ExifIFD.LensMake: u\"LensMake\",\n",
    "            piexif.ExifIFD.Sharpness: 65535,\n",
    "            piexif.ExifIFD.UserComment: b\"Stop the war !\",\n",
    "            piexif.ExifIFD.LensSpecification: ((1, 1), (1, 1), (1, 1), (1, 1)),\n",
    "            }\n",
    "gps_ifd = {piexif.GPSIFD.GPSVersionID: (2, 0, 0, 0),\n",
    "           piexif.GPSIFD.GPSAltitudeRef: 1,\n",
    "           piexif.GPSIFD.GPSDateStamp: u\"1999:99:99 99:99:99\",\n",
    "           }\n",
    "first_ifd = {piexif.ImageIFD.Make: u\"Canon\",\n",
    "             piexif.ImageIFD.XResolution: (40, 1),\n",
    "             piexif.ImageIFD.YResolution: (40, 1),\n",
    "             piexif.ImageIFD.Software: u\"piexif\"\n",
    "             }\n",
    "\n",
    "exif_dict = {\"0th\":zeroth_ifd, \"Exif\":exif_ifd, \"GPS\":gps_ifd, \"1st\":first_ifd, \"thumbnail\":thumbnail}\n",
    "exif_bytes = piexif.dump(exif_dict)\n",
    "im = Image.open(\"putin.jpeg\")\n",
    "im.thumbnail((1000, 1000), Image.ANTIALIAS)\n",
    "im.save(\"out.jpg\", exif=exif_bytes)"
   ]
  },
  {
   "cell_type": "code",
   "execution_count": 58,
   "id": "a9fb5d5f",
   "metadata": {},
   "outputs": [
    {
     "data": {
      "text/plain": [
       "b'Stop the war !'"
      ]
     },
     "execution_count": 58,
     "metadata": {},
     "output_type": "execute_result"
    }
   ],
   "source": [
    "exif_dict['Exif'][37510] # [37510]"
   ]
  },
  {
   "cell_type": "code",
   "execution_count": null,
   "id": "04a50ee4",
   "metadata": {},
   "outputs": [],
   "source": []
  }
 ],
 "metadata": {
  "kernelspec": {
   "display_name": "Python 3 (ipykernel)",
   "language": "python",
   "name": "python3"
  },
  "language_info": {
   "codemirror_mode": {
    "name": "ipython",
    "version": 3
   },
   "file_extension": ".py",
   "mimetype": "text/x-python",
   "name": "python",
   "nbconvert_exporter": "python",
   "pygments_lexer": "ipython3",
   "version": "3.9.7"
  }
 },
 "nbformat": 4,
 "nbformat_minor": 5
}
